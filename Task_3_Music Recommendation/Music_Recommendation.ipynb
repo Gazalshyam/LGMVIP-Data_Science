{
  "nbformat": 4,
  "nbformat_minor": 0,
  "metadata": {
    "colab": {
      "provenance": []
    },
    "kernelspec": {
      "name": "python3",
      "display_name": "Python 3"
    },
    "language_info": {
      "name": "python"
    }
  },
  "cells": [
    {
      "cell_type": "code",
      "execution_count": null,
      "metadata": {
        "id": "qKrKVPeWEPhs"
      },
      "outputs": [],
      "source": []
    },
    {
      "cell_type": "markdown",
      "source": [
        "# **Task: Music Recommendation**"
      ],
      "metadata": {
        "id": "VmFvY1AbEVOo"
      }
    },
    {
      "cell_type": "code",
      "source": [
"#coding: utf-8\n",
"import json\n",
"import sys\n",

"def parse_song_line(in_line):\n",
    "data = json.loads(in_line)\n",
    "name = data['result']['name']\n",
    "tags = ",".join(data['result']['tags'])\n",
    "subscribed_count = data['result']['subscribedCount']\n",
    "if(subscribed_count<100):\n",
        "return False\n",
    "playlist_id = data['result']['id']\n",
    "song_info = ''\n",
    "songs = data['result']['tracks']\n",
    "for song in songs:\n",
        "try:\n",
            "song_info += "\t"+"::".join([str(song['id']),song['name'],song['artists'][0]['name'],str(song['popularity'])])\n",
        "except Exception as e:\n",
            "#print (e)\n",
            "#print (song)\n",
            "continue\n",
    "return name+"##"+tags+"##"+str(playlist_id)+"##"+str(subscribed_count)+song_info\n",\n",

"def parse_file(in_file, out_file):\n",
    "out = open(out_file, 'w', encoding='utf-8')\n",
    "for line in open(in_file, encoding='utf-8'):\n",
        "result = parse_song_line(line)\n",
        "if(result):\n",
            "out.write(result.strip()+"\n")\n",
    "out.close()\n",
    

"parse_file("./ori_data/playlist_detail_all.json", "./pro_data/163_music_playlist.txt")\n",

"import surprise\n", 
"import lightfm\n",

"import pickle\n",

"def parse_playlist_get_info(in_line, playlist_dic, song_dic):\n",
    "contents = in_line.strip().split("\t")\n",
    "name, tags, playlist_id, subscribed_count = contents[0].split("##")\n",
    "playlist_dic[playlist_id] = name\n",
    "for song in contents[1:]:\n",
        "try:\n",
            "song_id, song_name, artist, popularity = song.split("::")\n",
            "song_dic[song_id] = song_name+"\t"+artist\n",
        "except:\n",
            "print ("song format error")\n",
            "print (song+"\n")\n",



"def parse_file1(in_file, out_playlist, out_song):\n",
"playlist_dic = {}\n",
    
    "song_dic = {}\n",
    "for line in open(in_file, encoding='utf-8'):\n",
        "parse_playlist_get_info(line, playlist_dic, song_dic)\n",
    
    "pickle.dump(playlist_dic, open(out_playlist,"wb")) \n",
     "playlist_dic = pickle.load(open("playlist.pkl","rb"))\n",
    pickle.dump(song_dic, open(out_song,"wb"))
    
    
"def parse_file2(in_file, out_playlist, out_song):\n",
    
    "playlist_dic = {}\n",
    
    "song_dic = {}\n",
    "for line in open(in_file, encoding='utf-8'):\n",
        "parse_playlist_get_info(line, playlist_dic, song_dic)\n",
"pickle.dump(playlist_dic, open(out_playlist,"wb")) \n",
      "playlist_dic = pickle.load(open("playlist.pkl","rb"))\n",
    "pickle.dump(song_dic, open(out_song,"wb"))\n",
"parse_file1("./pro_data/163_music_playlist.txt", "./pro_data/playlist.pkl", "./pro_data/song.pkl")"\n",

      ],
      "metadata": {
        "id": "U3zyT-InEapk"
      },
      "execution_count": null,
      "outputs": []
    }
  ]
}
