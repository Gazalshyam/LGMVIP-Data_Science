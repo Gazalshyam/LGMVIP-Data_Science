{
  "nbformat": 4,
  "nbformat_minor": 0,
  "metadata": {
    "colab": {
      "provenance": []
    },
    "kernelspec": {
      "name": "python3",
      "display_name": "Python 3"
    },
    "language_info": {
      "name": "python"
    }
  },
  "cells": [
    {
      "cell_type": "code",
      "execution_count": null,
      "metadata": {
        "id": "qKrKVPeWEPhs"
      },
      "outputs": [],
      "source": []
    },
    {
      "cell_type": "markdown",
      "source": [
        "# **Task: Music Recommendation**"
      ],
      "metadata": {
        "id": "VmFvY1AbEVOo"
      }
    },
    {
      "cell_type": "code",
      "source": [
      ],
      "metadata": {
        "id": "U3zyT-InEapk"
      },
      "execution_count": null,
      "outputs": []
    }
  ]
}
