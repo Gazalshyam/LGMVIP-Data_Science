{
  "nbformat": 4,
  "nbformat_minor": 0,
  "metadata": {
    "colab": {
      "provenance": []
    },
    "kernelspec": {
      "name": "python3",
      "display_name": "Python 3"
    },
    "language_info": {
      "name": "python"
    }
  },
  "cells": [
    {
      "cell_type": "code",
      "execution_count": null,
      "metadata": {
        "id": "qKrKVPeWEPhs"
      },
      "outputs": [],
      "source": []
    },
    {
      "cell_type": "markdown",
      "source": [
        "# **Task: Music Recommendation**"
      ],
      "metadata": {
        "id": "VmFvY1AbEVOo"
      }
    },
    {
      "cell_type": "code",
      "source": [
        

import json
import sys

def parse_song_line(in_line):
    data = json.loads(in_line)
    name = data['result']['name']
    tags = ",".join(data['result']['tags'])
    subscribed_count = data['result']['subscribedCount']
    if(subscribed_count<100):
        return False
    playlist_id = data['result']['id']
    song_info = ''
    songs = data['result']['tracks']
    for song in songs:
        try:
            song_info += "\t"+"::".join([str(song['id']),song['name'],song['artists'][0]['name'],str(song['popularity'])])
        except Exception as e:
            #print (e)
            #print (song)
            continue
    return name+"##"+tags+"##"+str(playlist_id)+"##"+str(subscribed_count)+song_info

def parse_file(in_file, out_file):
    out = open(out_file, 'w', encoding='utf-8')
    for line in open(in_file, encoding='utf-8'):
        result = parse_song_line(line)
        if(result):
            out.write(result.strip()+"\n")
    out.close()
    

parse_file("./ori_data/playlist_detail_all.json", "./pro_data/163_music_playlist.txt")

import surprise 
import lightfm

import pickle

def parse_playlist_get_info(in_line, playlist_dic, song_dic):
    contents = in_line.strip().split("\t")
    name, tags, playlist_id, subscribed_count = contents[0].split("##")
    playlist_dic[playlist_id] = name
    for song in contents[1:]:
        try:
            song_id, song_name, artist, popularity = song.split("::")
            song_dic[song_id] = song_name+"\t"+artist
        except:
            print ("song format error")
            print (song+"\n")



def parse_file1(in_file, out_playlist, out_song):
playlist_dic = {}
    
    song_dic = {}
    for line in open(in_file, encoding='utf-8'):
        parse_playlist_get_info(line, playlist_dic, song_dic)
    
    pickle.dump(playlist_dic, open(out_playlist,"wb")) 
    #可以通过 playlist_dic = pickle.load(open("playlist.pkl","rb"))
    pickle.dump(song_dic, open(out_song,"wb"))
    
    
def parse_file2(in_file, out_playlist, out_song):
    #
    playlist_dic = {}
    
    song_dic = {}
    for line in open(in_file, encoding='utf-8'):
        parse_playlist_get_info(line, playlist_dic, song_dic)
pickle.dump(playlist_dic, open(out_playlist,"wb")) 
      playlist_dic = pickle.load(open("playlist.pkl","rb"))
    pickle.dump(song_dic, open(out_song,"wb"))
parse_file1("./pro_data/163_music_playlist.txt", "./pro_data/playlist.pkl", "./pro_data/song.pkl")

      ],
      "metadata": {
        "id": "U3zyT-InEapk"
      },
      "execution_count": null,
      "outputs": []
    }
  ]
}
