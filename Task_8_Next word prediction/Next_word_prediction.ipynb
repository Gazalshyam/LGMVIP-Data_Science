{
  "nbformat": 4,
  "nbformat_minor": 0,
  "metadata": {
    "colab": {
      "provenance": [],
      "gpuType": "T4"
    },
    "kernelspec": {
      "name": "python3",
      "display_name": "Python 3"
    },
    "language_info": {
      "name": "python"
    },
    "accelerator": "GPU"
  },
  "cells": [
    {
      "cell_type": "markdown",
      "source": [
        "# Task: Next word Prediction"
      ],
      "metadata": {
        "id": "lqTlIgr0mo5E"
      }
    },
    {
      "cell_type": "code",
      "execution_count": null,
      "metadata": {
        "id": "-L2Ib7_yUJi1"
      },
      "outputs": [],
      "source": [
        "import numpy as np\n",
        "import tensorflow as tf\n",
        "from tensorflow.keras.models import Sequential\n",
        "from tensorflow.keras.layers import Embedding, LSTM, Dense\n",
        "from tensorflow.keras.preprocessing.text import Tokenizer\n",
        "from tensorflow.keras.preprocessing.sequence import pad_sequences\n"
      ]
    },
    {
      "cell_type": "markdown",
      "source": [
        "**Load the dataset**"
      ],
      "metadata": {
        "id": "tU3gjuLMWY0P"
      }
    },
    {
      "cell_type": "code",
      "source": [
        "with open('/sherlock_holmes.txt', 'r', encoding='utf-8') as file:\n",
        "    text_data = file.read()\n"
      ],
      "metadata": {
        "id": "gpRV1stfUVm-"
      },
      "execution_count": null,
      "outputs": []
    },
    {
      "cell_type": "markdown",
      "source": [
        "**Tokenize the words using space as a separator**"
      ],
      "metadata": {
        "id": "nOmDgMy5WUSu"
      }
    },
    {
      "cell_type": "code",
      "source": [
        "tokenizer = Tokenizer()\n",
        "tokenizer.fit_on_texts([text_data])\n",
        "total_words = len(tokenizer.word_index) + 1\n"
      ],
      "metadata": {
        "id": "0nCHroSHUW71"
      },
      "execution_count": null,
      "outputs": []
    },
    {
      "cell_type": "markdown",
      "source": [
        "**Convert text data to sequences of integers**"
      ],
      "metadata": {
        "id": "TIX5N9LaWPJO"
      }
    },
    {
      "cell_type": "code",
      "source": [
        "input_sequences = []\n",
        "for line in text_data.split('\\n'):\n",
        "    token_list = line.split()  # Split words by spaces\n",
        "    token_list = tokenizer.texts_to_sequences([token_list])[0]\n",
        "    for i in range(1, len(token_list)):\n",
        "        n_gram_sequence = token_list[:i+1]\n",
        "        input_sequences.append(n_gram_sequence)\n"
      ],
      "metadata": {
        "id": "bUOshkkIU0Cu"
      },
      "execution_count": null,
      "outputs": []
    },
    {
      "cell_type": "markdown",
      "source": [
        "**Pad sequences to have the same length**"
      ],
      "metadata": {
        "id": "vgD0tSc6WIoA"
      }
    },
    {
      "cell_type": "code",
      "source": [
        "max_sequence_length = max([len(seq) for seq in input_sequences])\n",
        "input_sequences = pad_sequences(input_sequences, maxlen=max_sequence_length, padding='pre')\n"
      ],
      "metadata": {
        "id": "dM29CGY4U3mQ"
      },
      "execution_count": null,
      "outputs": []
    },
    {
      "cell_type": "markdown",
      "source": [
        "**Separate input and output data**"
      ],
      "metadata": {
        "id": "tzJMzh94WDgI"
      }
    },
    {
      "cell_type": "code",
      "source": [
        "X, y = input_sequences[:, :-1], input_sequences[:, -1]\n",
        "y = tf.keras.utils.to_categorical(y, num_classes=total_words)"
      ],
      "metadata": {
        "id": "LpNNACi4U6Nu"
      },
      "execution_count": null,
      "outputs": []
    },
    {
      "cell_type": "markdown",
      "source": [
        "### **Build and compile the RNN model**"
      ],
      "metadata": {
        "id": "ykeIfYSZV9nF"
      }
    },
    {
      "cell_type": "code",
      "source": [
        "model = Sequential()\n",
        "model.add(Embedding(total_words, 100, input_length=max_sequence_length-1))\n",
        "model.add(LSTM(256))\n",
        "model.add(Dense(total_words, activation='softmax'))\n",
        "\n",
        "model.compile(loss='categorical_crossentropy', optimizer='adam', metrics=['accuracy'])"
      ],
      "metadata": {
        "id": "DszX1_xdU-Pn"
      },
      "execution_count": null,
      "outputs": []
    },
    {
      "cell_type": "code",
      "source": [
        "model.fit(X, y, epochs=100, verbose=1)"
      ],
      "metadata": {
        "colab": {
          "base_uri": "https://localhost:8080/"
        },
        "id": "JwiYc7alXdmw",
        "outputId": "c427bba3-729d-4814-b048-d775f8e12666"
      },
      "execution_count": null,
      "outputs": [
        {
          "output_type": "stream",
          "name": "stdout",
          "text": [
            "Epoch 1/100\n",
            "2569/2569 [==============================] - 42s 13ms/step - loss: 6.0391 - accuracy: 0.0919\n",
            "Epoch 2/100\n",
            "2569/2569 [==============================] - 19s 8ms/step - loss: 5.3032 - accuracy: 0.1429\n",
            "Epoch 3/100\n",
            "2569/2569 [==============================] - 18s 7ms/step - loss: 4.9217 - accuracy: 0.1671\n",
            "Epoch 4/100\n",
            "2569/2569 [==============================] - 18s 7ms/step - loss: 4.5714 - accuracy: 0.1838\n",
            "Epoch 5/100\n",
            "2569/2569 [==============================] - 19s 7ms/step - loss: 4.2097 - accuracy: 0.2040\n",
            "Epoch 6/100\n",
            "2569/2569 [==============================] - 18s 7ms/step - loss: 3.8375 - accuracy: 0.2354\n",
            "Epoch 7/100\n",
            "2569/2569 [==============================] - 19s 7ms/step - loss: 3.4759 - accuracy: 0.2801\n",
            "Epoch 8/100\n",
            "2569/2569 [==============================] - 18s 7ms/step - loss: 3.1402 - accuracy: 0.3314\n",
            "Epoch 9/100\n",
            "2569/2569 [==============================] - 18s 7ms/step - loss: 2.8389 - accuracy: 0.3834\n",
            "Epoch 10/100\n",
            "2569/2569 [==============================] - 18s 7ms/step - loss: 2.5662 - accuracy: 0.4351\n",
            "Epoch 11/100\n",
            "2569/2569 [==============================] - 18s 7ms/step - loss: 2.3190 - accuracy: 0.4840\n",
            "Epoch 12/100\n",
            "2569/2569 [==============================] - 18s 7ms/step - loss: 2.0959 - accuracy: 0.5314\n",
            "Epoch 13/100\n",
            "2569/2569 [==============================] - 18s 7ms/step - loss: 1.8966 - accuracy: 0.5747\n",
            "Epoch 14/100\n",
            "2569/2569 [==============================] - 17s 7ms/step - loss: 1.7172 - accuracy: 0.6144\n",
            "Epoch 15/100\n",
            "2569/2569 [==============================] - 17s 7ms/step - loss: 1.5583 - accuracy: 0.6532\n",
            "Epoch 16/100\n",
            "2569/2569 [==============================] - 19s 7ms/step - loss: 1.4150 - accuracy: 0.6838\n",
            "Epoch 17/100\n",
            "2569/2569 [==============================] - 18s 7ms/step - loss: 1.2895 - accuracy: 0.7133\n",
            "Epoch 18/100\n",
            "2569/2569 [==============================] - 18s 7ms/step - loss: 1.1807 - accuracy: 0.7370\n",
            "Epoch 19/100\n",
            "2569/2569 [==============================] - 17s 7ms/step - loss: 1.0838 - accuracy: 0.7609\n",
            "Epoch 20/100\n",
            "2569/2569 [==============================] - 18s 7ms/step - loss: 1.0010 - accuracy: 0.7782\n",
            "Epoch 21/100\n",
            "2569/2569 [==============================] - 17s 7ms/step - loss: 0.9308 - accuracy: 0.7959\n",
            "Epoch 22/100\n",
            "2569/2569 [==============================] - 18s 7ms/step - loss: 0.8687 - accuracy: 0.8093\n",
            "Epoch 23/100\n",
            "2569/2569 [==============================] - 18s 7ms/step - loss: 0.8169 - accuracy: 0.8202\n",
            "Epoch 24/100\n",
            "2569/2569 [==============================] - 18s 7ms/step - loss: 0.7737 - accuracy: 0.8284\n",
            "Epoch 25/100\n",
            "2569/2569 [==============================] - 17s 7ms/step - loss: 0.7340 - accuracy: 0.8368\n",
            "Epoch 26/100\n",
            "2569/2569 [==============================] - 18s 7ms/step - loss: 0.7065 - accuracy: 0.8415\n",
            "Epoch 27/100\n",
            "2569/2569 [==============================] - 18s 7ms/step - loss: 0.6755 - accuracy: 0.8483\n",
            "Epoch 28/100\n",
            "2569/2569 [==============================] - 17s 7ms/step - loss: 0.6595 - accuracy: 0.8500\n",
            "Epoch 29/100\n",
            "2569/2569 [==============================] - 18s 7ms/step - loss: 0.6363 - accuracy: 0.8548\n",
            "Epoch 30/100\n",
            "2569/2569 [==============================] - 17s 7ms/step - loss: 0.6235 - accuracy: 0.8562\n",
            "Epoch 31/100\n",
            "2569/2569 [==============================] - 18s 7ms/step - loss: 0.6059 - accuracy: 0.8594\n",
            "Epoch 32/100\n",
            "2569/2569 [==============================] - 17s 7ms/step - loss: 0.5980 - accuracy: 0.8598\n",
            "Epoch 33/100\n",
            "2569/2569 [==============================] - 18s 7ms/step - loss: 0.5842 - accuracy: 0.8638\n",
            "Epoch 34/100\n",
            "2569/2569 [==============================] - 18s 7ms/step - loss: 0.5776 - accuracy: 0.8629\n",
            "Epoch 35/100\n",
            "2569/2569 [==============================] - 17s 7ms/step - loss: 0.5706 - accuracy: 0.8632\n",
            "Epoch 36/100\n",
            "2569/2569 [==============================] - 18s 7ms/step - loss: 0.5603 - accuracy: 0.8656\n",
            "Epoch 37/100\n",
            "2569/2569 [==============================] - 17s 7ms/step - loss: 0.5609 - accuracy: 0.8649\n",
            "Epoch 38/100\n",
            "2569/2569 [==============================] - 18s 7ms/step - loss: 0.5554 - accuracy: 0.8652\n",
            "Epoch 39/100\n",
            "2569/2569 [==============================] - 17s 7ms/step - loss: 0.5463 - accuracy: 0.8664\n",
            "Epoch 40/100\n",
            "2569/2569 [==============================] - 18s 7ms/step - loss: 0.5441 - accuracy: 0.8672\n",
            "Epoch 41/100\n",
            "2569/2569 [==============================] - 18s 7ms/step - loss: 0.5405 - accuracy: 0.8665\n",
            "Epoch 42/100\n",
            "2569/2569 [==============================] - 17s 7ms/step - loss: 0.5431 - accuracy: 0.8652\n",
            "Epoch 43/100\n",
            "2569/2569 [==============================] - 18s 7ms/step - loss: 0.5359 - accuracy: 0.8671\n",
            "Epoch 44/100\n",
            "2569/2569 [==============================] - 17s 7ms/step - loss: 0.5305 - accuracy: 0.8674\n",
            "Epoch 45/100\n",
            "2569/2569 [==============================] - 18s 7ms/step - loss: 0.5286 - accuracy: 0.8681\n",
            "Epoch 46/100\n",
            "2569/2569 [==============================] - 18s 7ms/step - loss: 0.5281 - accuracy: 0.8671\n",
            "Epoch 47/100\n",
            "2569/2569 [==============================] - 18s 7ms/step - loss: 0.5258 - accuracy: 0.8669\n",
            "Epoch 48/100\n",
            "2569/2569 [==============================] - 17s 7ms/step - loss: 0.5204 - accuracy: 0.8686\n",
            "Epoch 49/100\n",
            "2569/2569 [==============================] - 18s 7ms/step - loss: 0.5192 - accuracy: 0.8689\n",
            "Epoch 50/100\n",
            "2569/2569 [==============================] - 18s 7ms/step - loss: 0.5218 - accuracy: 0.8674\n",
            "Epoch 51/100\n",
            "2569/2569 [==============================] - 18s 7ms/step - loss: 0.5152 - accuracy: 0.8692\n",
            "Epoch 52/100\n",
            "2569/2569 [==============================] - 18s 7ms/step - loss: 0.5167 - accuracy: 0.8682\n",
            "Epoch 53/100\n",
            "2569/2569 [==============================] - 17s 7ms/step - loss: 0.5183 - accuracy: 0.8673\n",
            "Epoch 54/100\n",
            "2569/2569 [==============================] - 18s 7ms/step - loss: 0.5117 - accuracy: 0.8691\n",
            "Epoch 55/100\n",
            "2569/2569 [==============================] - 17s 7ms/step - loss: 0.5130 - accuracy: 0.8680\n",
            "Epoch 56/100\n",
            "2569/2569 [==============================] - 18s 7ms/step - loss: 0.5178 - accuracy: 0.8655\n",
            "Epoch 57/100\n",
            "2569/2569 [==============================] - 17s 7ms/step - loss: 0.5111 - accuracy: 0.8681\n",
            "Epoch 58/100\n",
            "2569/2569 [==============================] - 17s 7ms/step - loss: 0.5133 - accuracy: 0.8679\n",
            "Epoch 59/100\n",
            "2569/2569 [==============================] - 18s 7ms/step - loss: 0.5152 - accuracy: 0.8654\n",
            "Epoch 60/100\n",
            "2569/2569 [==============================] - 17s 7ms/step - loss: 0.5102 - accuracy: 0.8675\n",
            "Epoch 61/100\n",
            "2569/2569 [==============================] - 18s 7ms/step - loss: 0.5071 - accuracy: 0.8678\n",
            "Epoch 62/100\n",
            "2569/2569 [==============================] - 17s 7ms/step - loss: 0.5123 - accuracy: 0.8662\n",
            "Epoch 63/100\n",
            "2569/2569 [==============================] - 18s 7ms/step - loss: 0.5119 - accuracy: 0.8661\n",
            "Epoch 64/100\n",
            "2569/2569 [==============================] - 17s 7ms/step - loss: 0.5068 - accuracy: 0.8679\n",
            "Epoch 65/100\n",
            "2569/2569 [==============================] - 17s 7ms/step - loss: 0.5098 - accuracy: 0.8666\n",
            "Epoch 66/100\n",
            "2569/2569 [==============================] - 18s 7ms/step - loss: 0.5037 - accuracy: 0.8686\n",
            "Epoch 67/100\n",
            "2569/2569 [==============================] - 17s 7ms/step - loss: 0.5043 - accuracy: 0.8685\n",
            "Epoch 68/100\n",
            "2569/2569 [==============================] - 18s 7ms/step - loss: 0.5083 - accuracy: 0.8667\n",
            "Epoch 69/100\n",
            "2569/2569 [==============================] - 17s 7ms/step - loss: 0.5090 - accuracy: 0.8662\n",
            "Epoch 70/100\n",
            "2569/2569 [==============================] - 18s 7ms/step - loss: 0.5065 - accuracy: 0.8662\n",
            "Epoch 71/100\n",
            "2569/2569 [==============================] - 17s 7ms/step - loss: 0.5081 - accuracy: 0.8664\n",
            "Epoch 72/100\n",
            "2569/2569 [==============================] - 17s 7ms/step - loss: 0.5039 - accuracy: 0.8666\n",
            "Epoch 73/100\n",
            "2569/2569 [==============================] - 18s 7ms/step - loss: 0.5057 - accuracy: 0.8660\n",
            "Epoch 74/100\n",
            "2569/2569 [==============================] - 17s 7ms/step - loss: 0.5022 - accuracy: 0.8677\n",
            "Epoch 75/100\n",
            "2569/2569 [==============================] - 18s 7ms/step - loss: 0.5076 - accuracy: 0.8656\n",
            "Epoch 76/100\n",
            "2569/2569 [==============================] - 17s 7ms/step - loss: 0.5037 - accuracy: 0.8662\n",
            "Epoch 77/100\n",
            "2569/2569 [==============================] - 17s 7ms/step - loss: 0.5033 - accuracy: 0.8658\n",
            "Epoch 78/100\n",
            "2569/2569 [==============================] - 17s 7ms/step - loss: 0.5148 - accuracy: 0.8631\n",
            "Epoch 79/100\n",
            "2569/2569 [==============================] - 17s 7ms/step - loss: 0.5103 - accuracy: 0.8634\n",
            "Epoch 80/100\n",
            "2569/2569 [==============================] - 18s 7ms/step - loss: 0.5039 - accuracy: 0.8656\n",
            "Epoch 81/100\n",
            "2569/2569 [==============================] - 17s 7ms/step - loss: 0.5063 - accuracy: 0.8641\n",
            "Epoch 82/100\n",
            "2569/2569 [==============================] - 18s 7ms/step - loss: 0.5065 - accuracy: 0.8648\n",
            "Epoch 83/100\n",
            "2569/2569 [==============================] - 17s 7ms/step - loss: 0.5095 - accuracy: 0.8635\n",
            "Epoch 84/100\n",
            "2569/2569 [==============================] - 18s 7ms/step - loss: 0.5020 - accuracy: 0.8657\n",
            "Epoch 85/100\n",
            "2569/2569 [==============================] - 17s 7ms/step - loss: 0.5078 - accuracy: 0.8641\n",
            "Epoch 86/100\n",
            "2569/2569 [==============================] - 18s 7ms/step - loss: 0.5070 - accuracy: 0.8643\n",
            "Epoch 87/100\n",
            "2569/2569 [==============================] - 17s 7ms/step - loss: 0.5082 - accuracy: 0.8641\n",
            "Epoch 88/100\n",
            "2569/2569 [==============================] - 17s 7ms/step - loss: 0.5044 - accuracy: 0.8649\n",
            "Epoch 89/100\n",
            "2569/2569 [==============================] - 17s 7ms/step - loss: 0.5058 - accuracy: 0.8640\n",
            "Epoch 90/100\n",
            "2569/2569 [==============================] - 18s 7ms/step - loss: 0.5033 - accuracy: 0.8650\n",
            "Epoch 91/100\n",
            "2569/2569 [==============================] - 17s 7ms/step - loss: 0.5032 - accuracy: 0.8648\n",
            "Epoch 92/100\n",
            "2569/2569 [==============================] - 17s 7ms/step - loss: 0.5102 - accuracy: 0.8626\n",
            "Epoch 93/100\n",
            "2569/2569 [==============================] - 17s 7ms/step - loss: 0.5047 - accuracy: 0.8639\n",
            "Epoch 94/100\n",
            "2569/2569 [==============================] - 18s 7ms/step - loss: 0.5048 - accuracy: 0.8645\n",
            "Epoch 95/100\n",
            "2569/2569 [==============================] - 17s 7ms/step - loss: 0.5086 - accuracy: 0.8631\n",
            "Epoch 96/100\n",
            "2569/2569 [==============================] - 18s 7ms/step - loss: 0.5099 - accuracy: 0.8626\n",
            "Epoch 97/100\n",
            "2569/2569 [==============================] - 18s 7ms/step - loss: 0.5048 - accuracy: 0.8637\n",
            "Epoch 98/100\n",
            "2569/2569 [==============================] - 18s 7ms/step - loss: 0.5087 - accuracy: 0.8625\n",
            "Epoch 99/100\n",
            "2569/2569 [==============================] - 17s 7ms/step - loss: 0.5105 - accuracy: 0.8613\n",
            "Epoch 100/100\n",
            "2569/2569 [==============================] - 18s 7ms/step - loss: 0.5048 - accuracy: 0.8634\n"
          ]
        },
        {
          "output_type": "execute_result",
          "data": {
            "text/plain": [
              "<keras.callbacks.History at 0x7b0b7ede18d0>"
            ]
          },
          "metadata": {},
          "execution_count": 14
        }
      ]
    },
    {
      "cell_type": "markdown",
      "source": [
        "### **Train the RNN model**"
      ],
      "metadata": {
        "id": "_5-5jVzEV13t"
      }
    },
    {
      "cell_type": "markdown",
      "source": [
        "### **Generate predictions**"
      ],
      "metadata": {
        "id": "XdNaC7hOVu2M"
      }
    },
    {
      "cell_type": "markdown",
      "source": [
        "**Function to generate the next word given a seed word**"
      ],
      "metadata": {
        "id": "2X_09iiSVqHW"
      }
    },
    {
      "cell_type": "code",
      "source": [
        "def generate_next_word(seed_text, next_words):\n",
        "    for _ in range(next_words):\n",
        "        token_list = seed_text.split()\n",
        "        token_list = tokenizer.texts_to_sequences([token_list])[0]\n",
        "        token_list = pad_sequences([token_list], maxlen=max_sequence_length-1, padding='pre')\n",
        "        predicted_index = np.argmax(model.predict(token_list), axis=-1)\n",
        "        predicted_word = tokenizer.index_word[predicted_index[0]]\n",
        "        seed_text += \" \" + predicted_word\n",
        "    return seed_text"
      ],
      "metadata": {
        "id": "3aqm72UoVU60"
      },
      "execution_count": null,
      "outputs": []
    },
    {
      "cell_type": "markdown",
      "source": [
        "**Provide a seed text to generate the next word**"
      ],
      "metadata": {
        "id": "xxVUhRNCVefR"
      }
    },
    {
      "cell_type": "code",
      "source": [
        "seed_text = \"Sherlock Holmes\"\n",
        "next_words = 10\n",
        "generated_text = generate_next_word(seed_text, next_words)\n",
        "print(\"Generated text:\", generated_text)"
      ],
      "metadata": {
        "colab": {
          "base_uri": "https://localhost:8080/"
        },
        "id": "AOgJltpwVY8i",
        "outputId": "1c74f62e-160c-47c3-b550-f7efc36cec05"
      },
      "execution_count": null,
      "outputs": [
        {
          "output_type": "stream",
          "name": "stdout",
          "text": [
            "1/1 [==============================] - 0s 356ms/step\n",
            "1/1 [==============================] - 0s 22ms/step\n",
            "1/1 [==============================] - 0s 20ms/step\n",
            "1/1 [==============================] - 0s 17ms/step\n",
            "1/1 [==============================] - 0s 21ms/step\n",
            "1/1 [==============================] - 0s 20ms/step\n",
            "1/1 [==============================] - 0s 20ms/step\n",
            "1/1 [==============================] - 0s 21ms/step\n",
            "1/1 [==============================] - 0s 20ms/step\n",
            "1/1 [==============================] - 0s 18ms/step\n",
            "Generated text: Sherlock Holmes sat up with a “by said said he his precaution\n"
          ]
        }
      ]
    }
  ]
}