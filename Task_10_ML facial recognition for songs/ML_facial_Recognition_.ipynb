{
  "nbformat": 4,
  "nbformat_minor": 0,
  "metadata": {
    "colab": {
      "provenance": []
    },
    "kernelspec": {
      "name": "python3",
      "display_name": "Python 3"
    },
    "language_info": {
      "name": "python"
    }
  },
  "cells": [
    {
      "cell_type": "markdown",
      "source": [
        "# **Task: ML Facial recognition to detect mood and suggest songs accordingly**"
      ],
      "metadata": {
        "id": "NIT2nVaIE7P_"
      }
    },
    {
      "cell_type": "code",
      "execution_count": null,
      "metadata": {
        "id": "1mjDVcJlE5Tl"
      },
      "outputs": [],
      "source": []
    }
  ]
}