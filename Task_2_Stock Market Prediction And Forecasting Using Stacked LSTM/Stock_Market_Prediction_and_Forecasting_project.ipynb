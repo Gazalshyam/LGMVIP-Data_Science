{
  "nbformat": 4,
  "nbformat_minor": 0,
  "metadata": {
    "colab": {
      "provenance": []
    },
    "kernelspec": {
      "name": "python3",
      "display_name": "Python 3"
    },
    "language_info": {
      "name": "python"
    }
  },
  "cells": [
    {
      "cell_type": "markdown",
      "source": [
        "# **Task: Stock Market Prediction And Forecasting Using Stacked LSTM**"
      ],
      "metadata": {
        "id": "ksx2czTFqgb4"
      }
    },
    {
      "cell_type": "code",
      "execution_count": null,
      "metadata": {
        "id": "94bpySgzpisL"
      },
      "outputs": [],
      "source": [
        "import pandas as pd\n",
        "import numpy as np\n",
        "import matplotlib.pyplot as plt"
      ]
    },
    {
      "cell_type": "markdown",
      "source": [
        "### Load dataset"
      ],
      "metadata": {
        "id": "K90vqt-zrGvm"
      }
    },
    {
      "cell_type": "code",
      "source": [
        "url = \"https://raw.githubusercontent.com/mwitiderrick/stockprice/master/NSE-TATAGLOBAL.csv\"\n",
        "df = pd.read_csv(url)"
      ],
      "metadata": {
        "id": "CPzjUiMurAx9"
      },
      "execution_count": null,
      "outputs": []
    },
    {
      "cell_type": "markdown",
      "source": [
        "### Data Preprocessing"
      ],
      "metadata": {
        "id": "1NkiE4PxrS2f"
      }
    },
    {
      "cell_type": "code",
      "source": [
        "df['Date'] = pd.to_datetime(df['Date'])"
      ],
      "metadata": {
        "id": "4chg1buIrWeO"
      },
      "execution_count": null,
      "outputs": []
    },
    {
      "cell_type": "code",
      "source": [
        "df.sort_values('Date', inplace=True, ascending=True)"
      ],
      "metadata": {
        "id": "xqh0jlYGrDnG"
      },
      "execution_count": null,
      "outputs": []
    },
    {
      "cell_type": "code",
      "source": [
        "data = df[['Date', 'Open', 'High', 'Low', 'Last', 'Close', 'Total Trade Quantity', 'Turnover (Lacs)']]\n"
      ],
      "metadata": {
        "id": "7KtkcHSdrbld"
      },
      "execution_count": null,
      "outputs": []
    },
    {
      "cell_type": "code",
      "source": [
        "from sklearn.preprocessing import MinMaxScaler"
      ],
      "metadata": {
        "id": "kAXJG0XlrjEN"
      },
      "execution_count": null,
      "outputs": []
    },
    {
      "cell_type": "code",
      "source": [
        "scaler = MinMaxScaler()\n",
        "scaled_data = scaler.fit_transform(data.iloc[:, 1:])"
      ],
      "metadata": {
        "id": "6fEHYIJnrdu2"
      },
      "execution_count": null,
      "outputs": []
    },
    {
      "cell_type": "markdown",
      "source": [
        "### Split the data into training and testing sets"
      ],
      "metadata": {
        "id": "f-UVR1lDrsz3"
      }
    },
    {
      "cell_type": "code",
      "source": [
        "sequence_length = 60"
      ],
      "metadata": {
        "id": "U8yAHBDDrgyi"
      },
      "execution_count": null,
      "outputs": []
    },
    {
      "cell_type": "code",
      "source": [
        "X = []\n",
        "y = []\n",
        "\n",
        "for i in range(len(scaled_data) - sequence_length):\n",
        "    X.append(scaled_data[i:i + sequence_length])\n",
        "    y.append(scaled_data[i + sequence_length, 1])  # 'Close' price for the next day\n",
        "\n",
        "X, y = np.array(X), np.array(y)\n"
      ],
      "metadata": {
        "id": "E8CI2Ae9r1S0"
      },
      "execution_count": null,
      "outputs": []
    },
    {
      "cell_type": "code",
      "source": [
        "split_ratio = 0.8\n",
        "train_size = int(split_ratio * len(X))\n"
      ],
      "metadata": {
        "id": "qQxwj8SPr5EK"
      },
      "execution_count": null,
      "outputs": []
    },
    {
      "cell_type": "code",
      "source": [
        "X_train, X_test = X[:train_size], X[train_size:]\n",
        "y_train, y_test = y[:train_size], y[train_size:]"
      ],
      "metadata": {
        "id": "e8nw7CeEr8OU"
      },
      "execution_count": null,
      "outputs": []
    },
    {
      "cell_type": "markdown",
      "source": [
        "Build the Stacked LSTM model"
      ],
      "metadata": {
        "id": "t9ZJ4n2DrsEz"
      }
    },
    {
      "cell_type": "code",
      "source": [
        "from tensorflow.keras.models import Sequential\n",
        "from tensorflow.keras.layers import LSTM, Dense, Dropout"
      ],
      "metadata": {
        "id": "Js89FteMsBWu"
      },
      "execution_count": null,
      "outputs": []
    },
    {
      "cell_type": "code",
      "source": [
        "model = Sequential()"
      ],
      "metadata": {
        "id": "_0kvEzYLsFDX"
      },
      "execution_count": null,
      "outputs": []
    },
    {
      "cell_type": "code",
      "source": [
        "model.add(LSTM(units=50, return_sequences=True, input_shape=(X_train.shape[1], X_train.shape[2])))\n",
        "model.add(Dropout(0.2))"
      ],
      "metadata": {
        "id": "5Ejrfu6AsInv"
      },
      "execution_count": null,
      "outputs": []
    },
    {
      "cell_type": "code",
      "source": [
        "model.add(LSTM(units=50, return_sequences=True))\n",
        "model.add(Dropout(0.2))"
      ],
      "metadata": {
        "id": "V0g2W9u1sKvb"
      },
      "execution_count": null,
      "outputs": []
    },
    {
      "cell_type": "code",
      "source": [
        "model.add(LSTM(units=50))\n",
        "model.add(Dropout(0.2))"
      ],
      "metadata": {
        "id": "K93WLWnqsOdv"
      },
      "execution_count": null,
      "outputs": []
    },
    {
      "cell_type": "code",
      "source": [
        "model.add(Dense(units=1))"
      ],
      "metadata": {
        "id": "K-klF2TlsQ8u"
      },
      "execution_count": null,
      "outputs": []
    },
    {
      "cell_type": "markdown",
      "source": [
        "Train the model"
      ],
      "metadata": {
        "id": "PNMkyxgbsVqI"
      }
    },
    {
      "cell_type": "code",
      "source": [
        "model.compile(optimizer='adam', loss='mean_squared_error')"
      ],
      "metadata": {
        "id": "34m07QtEsTgM"
      },
      "execution_count": null,
      "outputs": []
    },
    {
      "cell_type": "code",
      "source": [
        "history = model.fit(X_train, y_train, epochs=100, batch_size=32, validation_split=0.2)"
      ],
      "metadata": {
        "colab": {
          "base_uri": "https://localhost:8080/"
        },
        "id": "v1k1PRzpsb0l",
        "outputId": "a9060762-2bc0-45ed-9b13-c26388776083"
      },
      "execution_count": null,
      "outputs": [
        {
          "output_type": "stream",
          "name": "stdout",
          "text": [
            "Epoch 1/100\n",
            "40/40 [==============================] - 13s 142ms/step - loss: 0.0051 - val_loss: 8.9448e-04\n",
            "Epoch 2/100\n",
            "40/40 [==============================] - 5s 121ms/step - loss: 0.0015 - val_loss: 8.7866e-04\n",
            "Epoch 3/100\n",
            "40/40 [==============================] - 6s 159ms/step - loss: 0.0012 - val_loss: 7.6063e-04\n",
            "Epoch 4/100\n",
            "40/40 [==============================] - 4s 108ms/step - loss: 0.0012 - val_loss: 6.6618e-04\n",
            "Epoch 5/100\n",
            "40/40 [==============================] - 5s 133ms/step - loss: 0.0013 - val_loss: 6.8112e-04\n",
            "Epoch 6/100\n",
            "40/40 [==============================] - 4s 109ms/step - loss: 9.6368e-04 - val_loss: 5.8734e-04\n",
            "Epoch 7/100\n",
            "40/40 [==============================] - 4s 106ms/step - loss: 9.6533e-04 - val_loss: 5.5999e-04\n",
            "Epoch 8/100\n",
            "40/40 [==============================] - 5s 138ms/step - loss: 9.7268e-04 - val_loss: 5.0051e-04\n",
            "Epoch 9/100\n",
            "40/40 [==============================] - 4s 104ms/step - loss: 8.1734e-04 - val_loss: 4.7867e-04\n",
            "Epoch 10/100\n",
            "40/40 [==============================] - 8s 194ms/step - loss: 8.5686e-04 - val_loss: 6.1360e-04\n",
            "Epoch 11/100\n",
            "40/40 [==============================] - 4s 104ms/step - loss: 8.1128e-04 - val_loss: 4.5085e-04\n",
            "Epoch 12/100\n",
            "40/40 [==============================] - 4s 112ms/step - loss: 7.7132e-04 - val_loss: 4.1619e-04\n",
            "Epoch 13/100\n",
            "40/40 [==============================] - 6s 145ms/step - loss: 7.3123e-04 - val_loss: 3.8737e-04\n",
            "Epoch 14/100\n",
            "40/40 [==============================] - 8s 198ms/step - loss: 7.8457e-04 - val_loss: 4.0711e-04\n",
            "Epoch 15/100\n",
            "40/40 [==============================] - 9s 233ms/step - loss: 6.5674e-04 - val_loss: 4.0194e-04\n",
            "Epoch 16/100\n",
            "40/40 [==============================] - 7s 185ms/step - loss: 7.4149e-04 - val_loss: 4.7835e-04\n",
            "Epoch 17/100\n",
            "40/40 [==============================] - 5s 118ms/step - loss: 6.6397e-04 - val_loss: 4.5237e-04\n",
            "Epoch 18/100\n",
            "40/40 [==============================] - 4s 107ms/step - loss: 6.5660e-04 - val_loss: 3.5091e-04\n",
            "Epoch 19/100\n",
            "40/40 [==============================] - 7s 168ms/step - loss: 6.9126e-04 - val_loss: 3.4768e-04\n",
            "Epoch 20/100\n",
            "40/40 [==============================] - 4s 104ms/step - loss: 5.7511e-04 - val_loss: 3.9448e-04\n",
            "Epoch 21/100\n",
            "40/40 [==============================] - 9s 219ms/step - loss: 5.9145e-04 - val_loss: 3.0410e-04\n",
            "Epoch 22/100\n",
            "40/40 [==============================] - 9s 213ms/step - loss: 5.6495e-04 - val_loss: 2.9856e-04\n",
            "Epoch 23/100\n",
            "40/40 [==============================] - 5s 121ms/step - loss: 5.6194e-04 - val_loss: 3.1379e-04\n",
            "Epoch 24/100\n",
            "40/40 [==============================] - 5s 118ms/step - loss: 5.5378e-04 - val_loss: 2.8859e-04\n",
            "Epoch 25/100\n",
            "40/40 [==============================] - 5s 133ms/step - loss: 6.1437e-04 - val_loss: 2.7729e-04\n",
            "Epoch 26/100\n",
            "40/40 [==============================] - 4s 104ms/step - loss: 5.0394e-04 - val_loss: 2.5948e-04\n",
            "Epoch 27/100\n",
            "40/40 [==============================] - 4s 102ms/step - loss: 5.4347e-04 - val_loss: 2.6701e-04\n",
            "Epoch 28/100\n",
            "40/40 [==============================] - 6s 149ms/step - loss: 5.1449e-04 - val_loss: 2.4523e-04\n",
            "Epoch 29/100\n",
            "40/40 [==============================] - 7s 176ms/step - loss: 4.7430e-04 - val_loss: 2.4593e-04\n",
            "Epoch 30/100\n",
            "40/40 [==============================] - 10s 242ms/step - loss: 4.8092e-04 - val_loss: 2.2812e-04\n",
            "Epoch 31/100\n",
            "40/40 [==============================] - 6s 154ms/step - loss: 5.1274e-04 - val_loss: 2.2146e-04\n",
            "Epoch 32/100\n",
            "40/40 [==============================] - 6s 143ms/step - loss: 4.7232e-04 - val_loss: 4.0516e-04\n",
            "Epoch 33/100\n",
            "40/40 [==============================] - 4s 103ms/step - loss: 4.5295e-04 - val_loss: 2.2542e-04\n",
            "Epoch 34/100\n",
            "40/40 [==============================] - 5s 123ms/step - loss: 4.0690e-04 - val_loss: 2.5059e-04\n",
            "Epoch 35/100\n",
            "40/40 [==============================] - 5s 113ms/step - loss: 4.1676e-04 - val_loss: 2.0852e-04\n",
            "Epoch 36/100\n",
            "40/40 [==============================] - 4s 103ms/step - loss: 4.1130e-04 - val_loss: 2.6714e-04\n",
            "Epoch 37/100\n",
            "40/40 [==============================] - 5s 138ms/step - loss: 4.5923e-04 - val_loss: 2.0279e-04\n",
            "Epoch 38/100\n",
            "40/40 [==============================] - 4s 103ms/step - loss: 3.9362e-04 - val_loss: 2.0424e-04\n",
            "Epoch 39/100\n",
            "40/40 [==============================] - 4s 103ms/step - loss: 3.7198e-04 - val_loss: 2.0044e-04\n",
            "Epoch 40/100\n",
            "40/40 [==============================] - 6s 146ms/step - loss: 3.8107e-04 - val_loss: 2.0894e-04\n",
            "Epoch 41/100\n",
            "40/40 [==============================] - 4s 102ms/step - loss: 3.5874e-04 - val_loss: 1.9598e-04\n",
            "Epoch 42/100\n",
            "40/40 [==============================] - 4s 103ms/step - loss: 3.4231e-04 - val_loss: 1.9861e-04\n",
            "Epoch 43/100\n",
            "40/40 [==============================] - 6s 162ms/step - loss: 3.5637e-04 - val_loss: 1.7315e-04\n",
            "Epoch 44/100\n",
            "40/40 [==============================] - 4s 106ms/step - loss: 3.5265e-04 - val_loss: 1.7434e-04\n",
            "Epoch 45/100\n",
            "40/40 [==============================] - 5s 125ms/step - loss: 3.2577e-04 - val_loss: 1.8534e-04\n",
            "Epoch 46/100\n",
            "40/40 [==============================] - 4s 109ms/step - loss: 3.3918e-04 - val_loss: 1.7072e-04\n",
            "Epoch 47/100\n",
            "40/40 [==============================] - 4s 102ms/step - loss: 3.2397e-04 - val_loss: 2.0593e-04\n",
            "Epoch 48/100\n",
            "40/40 [==============================] - 5s 134ms/step - loss: 3.0562e-04 - val_loss: 1.5683e-04\n",
            "Epoch 49/100\n",
            "40/40 [==============================] - 4s 106ms/step - loss: 3.0984e-04 - val_loss: 2.7892e-04\n",
            "Epoch 50/100\n",
            "40/40 [==============================] - 4s 108ms/step - loss: 2.9781e-04 - val_loss: 1.4965e-04\n",
            "Epoch 51/100\n",
            "40/40 [==============================] - 6s 139ms/step - loss: 3.1815e-04 - val_loss: 1.7420e-04\n",
            "Epoch 52/100\n",
            "40/40 [==============================] - 4s 103ms/step - loss: 3.1583e-04 - val_loss: 1.4443e-04\n",
            "Epoch 53/100\n",
            "40/40 [==============================] - 4s 103ms/step - loss: 2.8411e-04 - val_loss: 1.5397e-04\n",
            "Epoch 54/100\n",
            "40/40 [==============================] - 5s 134ms/step - loss: 2.9879e-04 - val_loss: 1.6553e-04\n",
            "Epoch 55/100\n",
            "40/40 [==============================] - 4s 103ms/step - loss: 2.6665e-04 - val_loss: 1.4870e-04\n",
            "Epoch 56/100\n",
            "40/40 [==============================] - 4s 112ms/step - loss: 2.7291e-04 - val_loss: 1.3248e-04\n",
            "Epoch 57/100\n",
            "40/40 [==============================] - 5s 126ms/step - loss: 2.9308e-04 - val_loss: 1.3531e-04\n",
            "Epoch 58/100\n",
            "40/40 [==============================] - 4s 104ms/step - loss: 2.5415e-04 - val_loss: 1.3209e-04\n",
            "Epoch 59/100\n",
            "40/40 [==============================] - 5s 120ms/step - loss: 2.6369e-04 - val_loss: 1.2597e-04\n",
            "Epoch 60/100\n",
            "40/40 [==============================] - 5s 115ms/step - loss: 2.5201e-04 - val_loss: 1.2112e-04\n",
            "Epoch 61/100\n",
            "40/40 [==============================] - 4s 104ms/step - loss: 2.4573e-04 - val_loss: 1.3837e-04\n",
            "Epoch 62/100\n",
            "40/40 [==============================] - 5s 138ms/step - loss: 2.7855e-04 - val_loss: 1.6946e-04\n",
            "Epoch 63/100\n",
            "40/40 [==============================] - 4s 103ms/step - loss: 2.3878e-04 - val_loss: 1.9745e-04\n",
            "Epoch 64/100\n",
            "40/40 [==============================] - 4s 103ms/step - loss: 2.8742e-04 - val_loss: 1.7352e-04\n",
            "Epoch 65/100\n",
            "40/40 [==============================] - 5s 135ms/step - loss: 2.5389e-04 - val_loss: 1.1307e-04\n",
            "Epoch 66/100\n",
            "40/40 [==============================] - 4s 106ms/step - loss: 2.5795e-04 - val_loss: 1.2479e-04\n",
            "Epoch 67/100\n",
            "40/40 [==============================] - 4s 102ms/step - loss: 2.6356e-04 - val_loss: 1.2181e-04\n",
            "Epoch 68/100\n",
            "40/40 [==============================] - 5s 125ms/step - loss: 2.6718e-04 - val_loss: 1.6127e-04\n",
            "Epoch 69/100\n",
            "40/40 [==============================] - 4s 105ms/step - loss: 2.6555e-04 - val_loss: 1.1267e-04\n",
            "Epoch 70/100\n",
            "40/40 [==============================] - 5s 114ms/step - loss: 2.4115e-04 - val_loss: 1.0555e-04\n",
            "Epoch 71/100\n",
            "40/40 [==============================] - 5s 111ms/step - loss: 2.1874e-04 - val_loss: 1.0144e-04\n",
            "Epoch 72/100\n",
            "40/40 [==============================] - 4s 103ms/step - loss: 2.2269e-04 - val_loss: 1.1533e-04\n",
            "Epoch 73/100\n",
            "40/40 [==============================] - 5s 126ms/step - loss: 2.2896e-04 - val_loss: 9.7598e-05\n",
            "Epoch 74/100\n",
            "40/40 [==============================] - 4s 104ms/step - loss: 2.3098e-04 - val_loss: 9.4777e-05\n",
            "Epoch 75/100\n",
            "40/40 [==============================] - 4s 104ms/step - loss: 2.1498e-04 - val_loss: 9.8567e-05\n",
            "Epoch 76/100\n",
            "40/40 [==============================] - 5s 126ms/step - loss: 2.3452e-04 - val_loss: 9.7496e-05\n",
            "Epoch 77/100\n",
            "40/40 [==============================] - 4s 104ms/step - loss: 2.1678e-04 - val_loss: 9.7281e-05\n",
            "Epoch 78/100\n",
            "40/40 [==============================] - 4s 111ms/step - loss: 2.4312e-04 - val_loss: 1.1186e-04\n",
            "Epoch 79/100\n",
            "40/40 [==============================] - 5s 115ms/step - loss: 2.4850e-04 - val_loss: 1.0912e-04\n",
            "Epoch 80/100\n",
            "40/40 [==============================] - 4s 105ms/step - loss: 2.4820e-04 - val_loss: 1.0052e-04\n",
            "Epoch 81/100\n",
            "40/40 [==============================] - 5s 125ms/step - loss: 2.0193e-04 - val_loss: 9.2933e-05\n",
            "Epoch 82/100\n",
            "40/40 [==============================] - 4s 106ms/step - loss: 2.3950e-04 - val_loss: 1.3053e-04\n",
            "Epoch 83/100\n",
            "40/40 [==============================] - 4s 105ms/step - loss: 2.2800e-04 - val_loss: 9.5726e-05\n",
            "Epoch 84/100\n",
            "40/40 [==============================] - 5s 124ms/step - loss: 2.2133e-04 - val_loss: 8.5878e-05\n",
            "Epoch 85/100\n",
            "40/40 [==============================] - 4s 104ms/step - loss: 2.1009e-04 - val_loss: 9.7654e-05\n",
            "Epoch 86/100\n",
            "40/40 [==============================] - 5s 119ms/step - loss: 2.3490e-04 - val_loss: 8.5762e-05\n",
            "Epoch 87/100\n",
            "40/40 [==============================] - 4s 108ms/step - loss: 2.0319e-04 - val_loss: 8.6188e-05\n",
            "Epoch 88/100\n",
            "40/40 [==============================] - 4s 102ms/step - loss: 2.1301e-04 - val_loss: 8.9230e-05\n",
            "Epoch 89/100\n",
            "40/40 [==============================] - 5s 123ms/step - loss: 2.0740e-04 - val_loss: 9.6604e-05\n",
            "Epoch 90/100\n",
            "40/40 [==============================] - 4s 103ms/step - loss: 1.9612e-04 - val_loss: 8.3584e-05\n",
            "Epoch 91/100\n",
            "40/40 [==============================] - 4s 104ms/step - loss: 1.9378e-04 - val_loss: 8.2129e-05\n",
            "Epoch 92/100\n",
            "40/40 [==============================] - 5s 124ms/step - loss: 2.1242e-04 - val_loss: 9.9604e-05\n",
            "Epoch 93/100\n",
            "40/40 [==============================] - 4s 104ms/step - loss: 1.9663e-04 - val_loss: 7.6030e-05\n",
            "Epoch 94/100\n",
            "40/40 [==============================] - 5s 116ms/step - loss: 1.9917e-04 - val_loss: 7.6390e-05\n",
            "Epoch 95/100\n",
            "40/40 [==============================] - 4s 110ms/step - loss: 2.1524e-04 - val_loss: 8.8950e-05\n",
            "Epoch 96/100\n",
            "40/40 [==============================] - 4s 104ms/step - loss: 2.1691e-04 - val_loss: 8.5746e-05\n",
            "Epoch 97/100\n",
            "40/40 [==============================] - 5s 124ms/step - loss: 1.9353e-04 - val_loss: 8.1672e-05\n",
            "Epoch 98/100\n",
            "40/40 [==============================] - 4s 104ms/step - loss: 2.0129e-04 - val_loss: 7.3484e-05\n",
            "Epoch 99/100\n",
            "40/40 [==============================] - 4s 103ms/step - loss: 1.9757e-04 - val_loss: 7.5576e-05\n",
            "Epoch 100/100\n",
            "40/40 [==============================] - 5s 125ms/step - loss: 1.9485e-04 - val_loss: 1.1194e-04\n"
          ]
        }
      ]
    },
    {
      "cell_type": "markdown",
      "source": [
        "Evaluate model"
      ],
      "metadata": {
        "id": "qWKkWyWYsjLp"
      }
    },
    {
      "cell_type": "code",
      "source": [
        "loss = model.evaluate(X_test, y_test)\n",
        "print(\"Test Loss:\", loss)"
      ],
      "metadata": {
        "colab": {
          "base_uri": "https://localhost:8080/"
        },
        "id": "KQyyq6cSse5S",
        "outputId": "41f4d0db-5e3c-4f1b-b1ab-0da8657e13f6"
      },
      "execution_count": null,
      "outputs": [
        {
          "output_type": "stream",
          "name": "stdout",
          "text": [
            "13/13 [==============================] - 0s 30ms/step - loss: 0.0011\n",
            "Test Loss: 0.0010912887519225478\n"
          ]
        }
      ]
    },
    {
      "cell_type": "code",
      "source": [
        "plt.plot(history.history['loss'], label='Training Loss')\n",
        "plt.plot(history.history['val_loss'], label='Validation Loss')\n",
        "plt.legend()\n",
        "plt.xlabel('Epoch')\n",
        "plt.ylabel('Loss')\n",
        "plt.show()"
      ],
      "metadata": {
        "colab": {
          "base_uri": "https://localhost:8080/",
          "height": 449
        },
        "id": "dagfdEyQso0N",
        "outputId": "5acb423f-7ccb-4dbf-dbe7-8266ce077d31"
      },
      "execution_count": null,
      "outputs": [
        {
          "output_type": "display_data",
          "data": {
            "text/plain": [
              "<Figure size 640x480 with 1 Axes>"
            ],
            "image/png": "[encoded data removed]"
          },
          "metadata": {}
        }
      ]
    },
    {
      "cell_type": "markdown",
      "source": [
        "### Make Predictions"
      ],
      "metadata": {
        "id": "tEWWw9Q0szub"
      }
    },
    {
      "cell_type": "code",
      "source": [
        "y_pred = model.predict(X_test)\n"
      ],
      "metadata": {
        "colab": {
          "base_uri": "https://localhost:8080/"
        },
        "id": "yXhjH8-Csx5z",
        "outputId": "a55e4574-3021-4727-a440-40f099d56d2e"
      },
      "execution_count": null,
      "outputs": [
        {
          "output_type": "stream",
          "name": "stdout",
          "text": [
            "13/13 [==============================] - 0s 28ms/step\n"
          ]
        }
      ]
    },
    {
      "cell_type": "code",
      "source": [
        "y_pred = y_pred.reshape(-1, 1, 1)\n",
        "\n",
        "# Inverse scale the predicted values\n",
        "y_pred = scaler.inverse_transform(np.hstack((X_test[:, -1, 1:], y_pred)))\n"
      ],
      "metadata": {
        "colab": {
          "base_uri": "https://localhost:8080/",
          "height": 259
        },
        "id": "xy3BAAHqs6nd",
        "outputId": "0a55d9fe-7a78-4bd6-de0b-88467770e34d"
      },
      "execution_count": null,
      "outputs": [
        {
          "output_type": "error",
          "ename": "ValueError",
          "evalue": "ignored",
          "traceback": [
            "\u001b[0;31m---------------------------------------------------------------------------\u001b[0m",
            "\u001b[0;31mValueError\u001b[0m                                Traceback (most recent call last)",
            "\u001b[0;32m<ipython-input-48-52bed115bc02>\u001b[0m in \u001b[0;36m<cell line: 4>\u001b[0;34m()\u001b[0m\n\u001b[1;32m      2\u001b[0m \u001b[0;34m\u001b[0m\u001b[0m\n\u001b[1;32m      3\u001b[0m \u001b[0;31m# Inverse scale the predicted values\u001b[0m\u001b[0;34m\u001b[0m\u001b[0;34m\u001b[0m\u001b[0m\n\u001b[0;32m----> 4\u001b[0;31m \u001b[0my_pred\u001b[0m \u001b[0;34m=\u001b[0m \u001b[0mscaler\u001b[0m\u001b[0;34m.\u001b[0m\u001b[0minverse_transform\u001b[0m\u001b[0;34m(\u001b[0m\u001b[0mnp\u001b[0m\u001b[0;34m.\u001b[0m\u001b[0mhstack\u001b[0m\u001b[0;34m(\u001b[0m\u001b[0;34m(\u001b[0m\u001b[0mX_test\u001b[0m\u001b[0;34m[\u001b[0m\u001b[0;34m:\u001b[0m\u001b[0;34m,\u001b[0m \u001b[0;34m-\u001b[0m\u001b[0;36m1\u001b[0m\u001b[0;34m,\u001b[0m \u001b[0;36m1\u001b[0m\u001b[0;34m:\u001b[0m\u001b[0;34m]\u001b[0m\u001b[0;34m,\u001b[0m \u001b[0my_pred\u001b[0m\u001b[0;34m)\u001b[0m\u001b[0;34m)\u001b[0m\u001b[0;34m)\u001b[0m\u001b[0;34m\u001b[0m\u001b[0;34m\u001b[0m\u001b[0m\n\u001b[0m",
            "\u001b[0;32m/usr/local/lib/python3.10/dist-packages/numpy/core/overrides.py\u001b[0m in \u001b[0;36mhstack\u001b[0;34m(*args, **kwargs)\u001b[0m\n",
            "\u001b[0;32m/usr/local/lib/python3.10/dist-packages/numpy/core/shape_base.py\u001b[0m in \u001b[0;36mhstack\u001b[0;34m(tup)\u001b[0m\n\u001b[1;32m    343\u001b[0m         \u001b[0;32mreturn\u001b[0m \u001b[0m_nx\u001b[0m\u001b[0;34m.\u001b[0m\u001b[0mconcatenate\u001b[0m\u001b[0;34m(\u001b[0m\u001b[0marrs\u001b[0m\u001b[0;34m,\u001b[0m \u001b[0;36m0\u001b[0m\u001b[0;34m)\u001b[0m\u001b[0;34m\u001b[0m\u001b[0;34m\u001b[0m\u001b[0m\n\u001b[1;32m    344\u001b[0m     \u001b[0;32melse\u001b[0m\u001b[0;34m:\u001b[0m\u001b[0;34m\u001b[0m\u001b[0;34m\u001b[0m\u001b[0m\n\u001b[0;32m--> 345\u001b[0;31m         \u001b[0;32mreturn\u001b[0m \u001b[0m_nx\u001b[0m\u001b[0;34m.\u001b[0m\u001b[0mconcatenate\u001b[0m\u001b[0;34m(\u001b[0m\u001b[0marrs\u001b[0m\u001b[0;34m,\u001b[0m \u001b[0;36m1\u001b[0m\u001b[0;34m)\u001b[0m\u001b[0;34m\u001b[0m\u001b[0;34m\u001b[0m\u001b[0m\n\u001b[0m\u001b[1;32m    346\u001b[0m \u001b[0;34m\u001b[0m\u001b[0m\n\u001b[1;32m    347\u001b[0m \u001b[0;34m\u001b[0m\u001b[0m\n",
            "\u001b[0;32m/usr/local/lib/python3.10/dist-packages/numpy/core/overrides.py\u001b[0m in \u001b[0;36mconcatenate\u001b[0;34m(*args, **kwargs)\u001b[0m\n",
            "\u001b[0;31mValueError\u001b[0m: all the input arrays must have same number of dimensions, but the array at index 0 has 2 dimension(s) and the array at index 1 has 3 dimension(s)"
          ]
        }
      ]
    },
    {
      "cell_type": "markdown",
      "source": [
        "**Predicted vs. Actual 'Close' prices**"
      ],
      "metadata": {
        "id": "y9SbwfcztIeD"
      }
    },
    {
      "cell_type": "code",
      "source": [
        "plt.figure(figsize=(12, 6))\n",
        "plt.plot(df['Date'].values[train_size + sequence_length:], y_test_inv, label='Actual Close Price', color='blue')\n",
        "plt.plot(df['Date'].values[train_size + sequence_length:], y_pred, label='Predicted Close Price', color='red')\n",
        "plt.xlabel('Date')\n",
        "plt.ylabel('Close Price')\n",
        "plt.legend()\n",
        "plt.show()"
      ],
      "metadata": {
        "id": "AEgUOdXqs_o4"
      },
      "execution_count": null,
      "outputs": []
    }
  ]
}